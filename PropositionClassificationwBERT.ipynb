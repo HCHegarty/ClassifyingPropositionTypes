{
  "nbformat": 4,
  "nbformat_minor": 0,
  "metadata": {
    "colab": {
      "name": "PropositionClassification.ipynb",
      "provenance": []
    },
    "kernelspec": {
      "name": "python3",
      "display_name": "Python 3.9.2 64-bit",
      "metadata": {
        "interpreter": {
          "hash": "e474b628559da144331c39781cde527f9eea2c7f80abebb285873998c8fbeaa1"
        }
      }
    },
    "accelerator": "GPU"
  },
  "cells": [
    {
      "cell_type": "code",
      "metadata": {
        "id": "DwG4XzXFuynY",
        "colab": {
          "base_uri": "https://localhost:8080/"
        },
        "outputId": "96339707-d9ca-4498-beb7-aafd905dcc35"
      },
      "source": [
        "!pip install transformers"
      ],
      "execution_count": 1,
      "outputs": [
        {
          "output_type": "stream",
          "name": "stderr",
          "text": [
            "'pip' is not recognized as an internal or external command,\noperable program or batch file.\n"
          ]
        }
      ]
    },
    {
      "cell_type": "code",
      "metadata": {
        "id": "pdAfS5WcvCVj"
      },
      "source": [
        "import numpy as np\n",
        "import pandas as pd\n",
        "from sklearn.model_selection import train_test_split\n",
        "from sklearn.model_selection import GridSearchCV\n",
        "from sklearn.model_selection import cross_val_score\n",
        "import torch\n",
        "import transformers as ppb\n",
        "import warnings\n",
        "\n",
        "warnings.filterwarnings('ignore')"
      ],
      "execution_count": 2,
      "outputs": []
    },
    {
      "cell_type": "code",
      "metadata": {
        "id": "UOV9E_fiatKS"
      },
      "source": [
        "#For logistic regression\n",
        "from sklearn.linear_model import LogisticRegression"
      ],
      "execution_count": 3,
      "outputs": []
    },
    {
      "cell_type": "code",
      "metadata": {
        "id": "fr6mPaBEas4j"
      },
      "source": [
        "#For naive bayes\n",
        "from sklearn.naive_bayes import GaussianNB\n",
        "from sklearn.naive_bayes import MultinomialNB\n",
        "from sklearn.naive_bayes import CategoricalNB"
      ],
      "execution_count": 4,
      "outputs": []
    },
    {
      "cell_type": "code",
      "metadata": {
        "id": "TdUAJHCgashr"
      },
      "source": [
        "#for linear svc\n",
        "from sklearn import svm"
      ],
      "execution_count": 5,
      "outputs": []
    },
    {
      "cell_type": "code",
      "metadata": {
        "id": "w8H_ZGvDv10m"
      },
      "source": [
        "df = pd.read_csv(\"FormattedTrainingDataset.csv\", delimiter=',', header=None)"
      ],
      "execution_count": 6,
      "outputs": []
    },
    {
      "cell_type": "code",
      "metadata": {
        "id": "R2UwqSm7wecj"
      },
      "source": [
        "#DistilBERT\n",
        "model_class, tokenizer_class, pretrained_weights = (ppb.DistilBertModel, ppb.DistilBertTokenizer, 'distilbert-base-uncased')\n",
        "tokenizer = tokenizer_class.from_pretrained(pretrained_weights)\n",
        "model = model_class.from_pretrained(pretrained_weights)"
      ],
      "execution_count": 7,
      "outputs": []
    },
    {
      "cell_type": "code",
      "metadata": {
        "id": "tgW9-n3_ZSPD"
      },
      "source": [
        "###BERT\n",
        "model_class, tokenizer_class, pretrained_weights = (ppb.BertModel, ppb.BertTokenizer, 'bert-base-uncased')\n",
        "tokenizer = tokenizer_class.from_pretrained(pretrained_weights)\n",
        "\n",
        "model = model_class.from_pretrained(pretrained_weights)"
      ],
      "execution_count": 8,
      "outputs": []
    },
    {
      "cell_type": "code",
      "metadata": {
        "id": "QGh3k93QpfyM"
      },
      "source": [
        "batch_1 = df[:3800]"
      ],
      "execution_count": 9,
      "outputs": []
    },
    {
      "cell_type": "code",
      "metadata": {
        "colab": {
          "base_uri": "https://localhost:8080/"
        },
        "id": "_i0AfgQypvZ3",
        "outputId": "a5a61e51-858d-4e1d-fd99-5be9d8dab68c"
      },
      "source": [
        "batch_1[1].value_counts()"
      ],
      "execution_count": 10,
      "outputs": [
        {
          "output_type": "execute_result",
          "data": {
            "text/plain": [
              "value     2182\n",
              "policy     815\n",
              "fact       786\n",
              "Name: 1, dtype: int64"
            ]
          },
          "metadata": {},
          "execution_count": 10
        }
      ]
    },
    {
      "cell_type": "code",
      "metadata": {
        "id": "tUafUZPIpFY0"
      },
      "source": [
        "tokenized = batch_1[0].apply((lambda x: tokenizer.encode(x, add_special_tokens=True)))"
      ],
      "execution_count": 11,
      "outputs": []
    },
    {
      "cell_type": "code",
      "metadata": {
        "id": "k0d19e9Buula"
      },
      "source": [
        "max_len = 0\n",
        "for i in tokenized.values:\n",
        "  if len(i) > max_len:\n",
        "    max_len = len(i)\n",
        "padded = np.array([i + [0]*(max_len-len(i)) for i in tokenized.values])"
      ],
      "execution_count": 12,
      "outputs": []
    },
    {
      "cell_type": "code",
      "metadata": {
        "colab": {
          "base_uri": "https://localhost:8080/"
        },
        "id": "d6QVVmjz1enS",
        "outputId": "ba5387f3-0930-4e30-d8f6-fa9a4e3b008a"
      },
      "source": [
        "np.array(padded).shape"
      ],
      "execution_count": 14,
      "outputs": [
        {
          "output_type": "execute_result",
          "data": {
            "text/plain": [
              "(3783, 116)"
            ]
          },
          "metadata": {},
          "execution_count": 14
        }
      ]
    },
    {
      "cell_type": "code",
      "metadata": {
        "colab": {
          "base_uri": "https://localhost:8080/"
        },
        "id": "KTNa9chn1lvq",
        "outputId": "5907c449-4f4a-4c2d-cb85-ab3b38a40b59"
      },
      "source": [
        "attention_mask = np.where(padded != 0, 1, 0)\n",
        "attention_mask.shape\n"
      ],
      "execution_count": 16,
      "outputs": [
        {
          "output_type": "execute_result",
          "data": {
            "text/plain": [
              "(3783, 116)"
            ]
          },
          "metadata": {},
          "execution_count": 16
        }
      ]
    },
    {
      "cell_type": "code",
      "metadata": {
        "id": "Tfs7XMfS1zoG",
        "colab": {
          "base_uri": "https://localhost:8080/",
          "height": 232
        },
        "outputId": "1973d066-8899-41d2-cf36-6fb8871ca23b"
      },
      "source": [
        "input_ids = torch.LongTensor(padded)\n",
        "attention_mask = torch.tensor(attention_mask)\n",
        "\n",
        "with torch.no_grad():\n",
        "  last_hidden_states = model(input_ids, attention_mask=attention_mask)"
      ],
      "execution_count": 17,
      "outputs": []
    },
    {
      "cell_type": "code",
      "execution_count": 18,
      "metadata": {},
      "outputs": [
        {
          "output_type": "execute_result",
          "data": {
            "text/plain": [
              "array([[-0.2607667 , -0.20353088, -0.22524181, ...,  0.12441164,\n",
              "         0.07126848,  0.35151252],\n",
              "       [-0.34178323, -0.62609017, -1.1245483 , ...,  0.02805318,\n",
              "        -0.38737717,  0.5007663 ],\n",
              "       [-0.17111711, -0.05117545, -0.15776686, ..., -0.1635767 ,\n",
              "         0.326662  ,  0.5927742 ],\n",
              "       ...,\n",
              "       [ 0.22074401, -0.14013086,  0.15528093, ..., -0.2823073 ,\n",
              "         0.21121702,  0.48165104],\n",
              "       [ 0.13924822,  0.26115525, -0.08441553, ..., -0.05328125,\n",
              "         0.19245926,  0.47801524],\n",
              "       [-0.13620552, -0.06756303, -0.10995404, ...,  0.11258655,\n",
              "         0.02763032,  0.44490597]], dtype=float32)"
            ]
          },
          "metadata": {},
          "execution_count": 18
        }
      ],
      "source": [
        "last_hidden_states[0][:,0,:].numpy()"
      ]
    },
    {
      "cell_type": "code",
      "metadata": {
        "id": "eD22SvtcIwph"
      },
      "source": [
        "features = last_hidden_states[0][:,0,:].numpy()"
      ],
      "execution_count": 19,
      "outputs": []
    },
    {
      "cell_type": "code",
      "metadata": {
        "id": "ejW6CxrBIxoV"
      },
      "source": [
        "labels = batch_1[1]"
      ],
      "execution_count": 20,
      "outputs": []
    },
    {
      "cell_type": "code",
      "execution_count": 47,
      "metadata": {},
      "outputs": [],
      "source": [
        "from statistics import mean, stdev\n",
        "from sklearn import preprocessing\n",
        "from sklearn.model_selection import StratifiedKFold\n",
        "from sklearn import linear_model\n",
        "from sklearn import datasets"
      ]
    },
    {
      "cell_type": "code",
      "execution_count": 60,
      "metadata": {},
      "outputs": [],
      "source": [
        "from sklearn.metrics import f1_score\n",
        "scaler = preprocessing.MinMaxScaler()\n",
        "features_scaled = scaler.fit_transform(features)\n",
        "skf = StratifiedKFold(n_splits=10, shuffle=True, random_state=1)\n",
        "lst_accu_stratified = []\n",
        "lst_f1_stratified = []\n",
        "\n"
      ]
    },
    {
      "cell_type": "code",
      "execution_count": 66,
      "metadata": {},
      "outputs": [
        {
          "output_type": "stream",
          "name": "stdout",
          "text": [
            "List of possible accuracy: [0.7783641160949868, 0.8021108179419525, 0.7994722955145118, 0.7566137566137566, 0.8148148148148148, 0.783068783068783, 0.7724867724867724, 0.7883597883597884, 0.791005291005291, 0.8095238095238095, 0.7783641160949868, 0.7783641160949868, 0.8021108179419525, 0.7994722955145118, 0.7566137566137566, 0.8148148148148148, 0.783068783068783, 0.7724867724867724, 0.7883597883597884, 0.791005291005291, 0.8095238095238095]\n\nMaximum Accuracy That can be obtained from this model is: 81.48148148148148 %\n\nMinimum Accuracy: 75.66137566137566 %\n\nOverall Accuracy: 78.90478384259009 %\n\nStandard Deviation is: 0.0170294415434534\nList of possible f1 scores: [0.7734101985594833, 0.8021436682404329, 0.799791866525807, 0.7491399564228697, 0.8141706569625683, 0.7783605278348102, 0.7697675125107143, 0.7806741684445652, 0.791801023051023, 0.8035661841829242]\n\nMaximum f1 score That can be obtained from this model is: 81.41706569625683 %\n\nMinimum f1 score: 74.91399564228696 %\n\nOverall f1 score: 78.62825762735199 %\n\nStandard Deviation is: 0.0195880612776078\n"
          ]
        }
      ],
      "source": [
        "lr = linear_model.LogisticRegression(C = 5.263252631578947)\n",
        "\n",
        "for train_index, test_index in skf.split(features, labels):\n",
        "    x_train_fold, x_test_fold = features_scaled[train_index], features_scaled[test_index]\n",
        "    y_train_fold, y_test_fold = labels[train_index], labels[test_index]\n",
        "    lr.fit(x_train_fold, y_train_fold)\n",
        "    lst_accu_stratified.append(lr.score(x_test_fold, y_test_fold))\n",
        "    lst_f1_stratified.append(f1_score(y_test_fold, lr.predict(x_test_fold), average='weighted'))\n",
        "   \n",
        "# Print the output.\n",
        "print('List of possible accuracy:', lst_accu_stratified)\n",
        "print('\\nMaximum Accuracy That can be obtained from this model is:',\n",
        "      max(lst_accu_stratified)*100, '%')\n",
        "print('\\nMinimum Accuracy:',\n",
        "      min(lst_accu_stratified)*100, '%')\n",
        "print('\\nOverall Accuracy:',\n",
        "      mean(lst_accu_stratified)*100, '%')\n",
        "print('\\nStandard Deviation is:', stdev(lst_accu_stratified))\n",
        "\n",
        "print('List of possible f1 scores:', lst_f1_stratified)\n",
        "print('\\nMaximum f1 score That can be obtained from this model is:',\n",
        "      max(lst_f1_stratified)*100, '%')\n",
        "print('\\nMinimum f1 score:',\n",
        "      min(lst_f1_stratified)*100, '%')\n",
        "print('\\nOverall f1 score:',\n",
        "      mean(lst_f1_stratified)*100, '%')\n",
        "print('\\nStandard Deviation is:', stdev(lst_f1_stratified))"
      ]
    },
    {
      "cell_type": "code",
      "execution_count": null,
      "metadata": {},
      "outputs": [],
      "source": [
        "lr_predicted = lr.predict(test_features)\n",
        "print(classification_report(test_labels, lr_predicted))"
      ]
    },
    {
      "cell_type": "code",
      "execution_count": null,
      "metadata": {},
      "outputs": [],
      "source": []
    },
    {
      "cell_type": "code",
      "metadata": {
        "id": "YVU-DDgzIz98"
      },
      "source": [
        "train_features, test_features, train_labels, test_labels = train_test_split(features, labels)"
      ],
      "execution_count": 21,
      "outputs": []
    },
    {
      "cell_type": "code",
      "metadata": {
        "colab": {
          "base_uri": "https://localhost:8080/"
        },
        "id": "vjcgrDHRY3s9",
        "outputId": "f8af7e42-d970-40d7-caeb-30c8589d9329"
      },
      "source": [
        "#linearSVC score\n",
        "parameters = {'C': np.linspace(0.0001, 100, 20)}\n",
        "grid_search = GridSearchCV(svm.LinearSVC(), parameters)\n",
        "grid_search.fit(train_index)\n",
        "\n",
        "print('best parameters: ', grid_search.best_params_)\n",
        "print('best scrores: ', grid_search.best_score_)\n",
        "\n"
      ],
      "execution_count": 39,
      "outputs": [
        {
          "output_type": "error",
          "ename": "NameError",
          "evalue": "name 'labels_train' is not defined",
          "traceback": [
            "\u001b[1;31m---------------------------------------------------------------------------\u001b[0m",
            "\u001b[1;31mNameError\u001b[0m                                 Traceback (most recent call last)",
            "\u001b[1;32m<ipython-input-39-30ed21ec07b4>\u001b[0m in \u001b[0;36m<module>\u001b[1;34m\u001b[0m\n\u001b[0;32m      2\u001b[0m \u001b[0mparameters\u001b[0m \u001b[1;33m=\u001b[0m \u001b[1;33m{\u001b[0m\u001b[1;34m'C'\u001b[0m\u001b[1;33m:\u001b[0m \u001b[0mnp\u001b[0m\u001b[1;33m.\u001b[0m\u001b[0mlinspace\u001b[0m\u001b[1;33m(\u001b[0m\u001b[1;36m0.0001\u001b[0m\u001b[1;33m,\u001b[0m \u001b[1;36m100\u001b[0m\u001b[1;33m,\u001b[0m \u001b[1;36m20\u001b[0m\u001b[1;33m)\u001b[0m\u001b[1;33m}\u001b[0m\u001b[1;33m\u001b[0m\u001b[1;33m\u001b[0m\u001b[0m\n\u001b[0;32m      3\u001b[0m \u001b[0mgrid_search\u001b[0m \u001b[1;33m=\u001b[0m \u001b[0mGridSearchCV\u001b[0m\u001b[1;33m(\u001b[0m\u001b[0msvm\u001b[0m\u001b[1;33m.\u001b[0m\u001b[0mLinearSVC\u001b[0m\u001b[1;33m(\u001b[0m\u001b[1;33m)\u001b[0m\u001b[1;33m,\u001b[0m \u001b[0mparameters\u001b[0m\u001b[1;33m)\u001b[0m\u001b[1;33m\u001b[0m\u001b[1;33m\u001b[0m\u001b[0m\n\u001b[1;32m----> 4\u001b[1;33m \u001b[0mgrid_search\u001b[0m\u001b[1;33m.\u001b[0m\u001b[0mfit\u001b[0m\u001b[1;33m(\u001b[0m\u001b[0mtrain_index\u001b[0m\u001b[1;33m,\u001b[0m \u001b[0mlabels_train\u001b[0m\u001b[1;33m)\u001b[0m\u001b[1;33m\u001b[0m\u001b[1;33m\u001b[0m\u001b[0m\n\u001b[0m\u001b[0;32m      5\u001b[0m \u001b[1;33m\u001b[0m\u001b[0m\n\u001b[0;32m      6\u001b[0m \u001b[0mprint\u001b[0m\u001b[1;33m(\u001b[0m\u001b[1;34m'best parameters: '\u001b[0m\u001b[1;33m,\u001b[0m \u001b[0mgrid_search\u001b[0m\u001b[1;33m.\u001b[0m\u001b[0mbest_params_\u001b[0m\u001b[1;33m)\u001b[0m\u001b[1;33m\u001b[0m\u001b[1;33m\u001b[0m\u001b[0m\n",
            "\u001b[1;31mNameError\u001b[0m: name 'labels_train' is not defined"
          ]
        }
      ]
    },
    {
      "cell_type": "code",
      "metadata": {
        "id": "4OMee6-NtFC1"
      },
      "source": [
        "svc_clf = svm.LinearSVC(C=10.526405263157894)\r\n",
        "svc_clf.fit(train_features, train_labels)\r\n",
        "\r\n",
        "svc_predicted = svc_clf.predict(test_features)"
      ],
      "execution_count": null,
      "outputs": []
    },
    {
      "cell_type": "code",
      "metadata": {
        "id": "AJGhJFl3cORj",
        "colab": {
          "base_uri": "https://localhost:8080/"
        },
        "outputId": "320e132a-f170-42d9-e6e9-73da366ddcef"
      },
      "source": [
        "#Logistic regression score\n",
        "parameters = {'C': np.linspace(0.0001, 100, 20)}\n",
        "grid_search = GridSearchCV(LogisticRegression(), parameters)\n",
        "grid_search.fit(features_train, labels_train)\n",
        "\n",
        "print('best parameters: ', grid_search.best_params_)\n",
        "print('best scrores: ', grid_search.best_score_)"
      ],
      "execution_count": 38,
      "outputs": [
        {
          "output_type": "error",
          "ename": "NameError",
          "evalue": "name 'features_train' is not defined",
          "traceback": [
            "\u001b[1;31m---------------------------------------------------------------------------\u001b[0m",
            "\u001b[1;31mNameError\u001b[0m                                 Traceback (most recent call last)",
            "\u001b[1;32m<ipython-input-38-aa1bda7a0f0b>\u001b[0m in \u001b[0;36m<module>\u001b[1;34m\u001b[0m\n\u001b[0;32m      2\u001b[0m \u001b[0mparameters\u001b[0m \u001b[1;33m=\u001b[0m \u001b[1;33m{\u001b[0m\u001b[1;34m'C'\u001b[0m\u001b[1;33m:\u001b[0m \u001b[0mnp\u001b[0m\u001b[1;33m.\u001b[0m\u001b[0mlinspace\u001b[0m\u001b[1;33m(\u001b[0m\u001b[1;36m0.0001\u001b[0m\u001b[1;33m,\u001b[0m \u001b[1;36m100\u001b[0m\u001b[1;33m,\u001b[0m \u001b[1;36m20\u001b[0m\u001b[1;33m)\u001b[0m\u001b[1;33m}\u001b[0m\u001b[1;33m\u001b[0m\u001b[1;33m\u001b[0m\u001b[0m\n\u001b[0;32m      3\u001b[0m \u001b[0mgrid_search\u001b[0m \u001b[1;33m=\u001b[0m \u001b[0mGridSearchCV\u001b[0m\u001b[1;33m(\u001b[0m\u001b[0mLogisticRegression\u001b[0m\u001b[1;33m(\u001b[0m\u001b[1;33m)\u001b[0m\u001b[1;33m,\u001b[0m \u001b[0mparameters\u001b[0m\u001b[1;33m)\u001b[0m\u001b[1;33m\u001b[0m\u001b[1;33m\u001b[0m\u001b[0m\n\u001b[1;32m----> 4\u001b[1;33m \u001b[0mgrid_search\u001b[0m\u001b[1;33m.\u001b[0m\u001b[0mfit\u001b[0m\u001b[1;33m(\u001b[0m\u001b[0mfeatures_train\u001b[0m\u001b[1;33m,\u001b[0m \u001b[0mlabels_train\u001b[0m\u001b[1;33m)\u001b[0m\u001b[1;33m\u001b[0m\u001b[1;33m\u001b[0m\u001b[0m\n\u001b[0m\u001b[0;32m      5\u001b[0m \u001b[1;33m\u001b[0m\u001b[0m\n\u001b[0;32m      6\u001b[0m \u001b[0mprint\u001b[0m\u001b[1;33m(\u001b[0m\u001b[1;34m'best parameters: '\u001b[0m\u001b[1;33m,\u001b[0m \u001b[0mgrid_search\u001b[0m\u001b[1;33m.\u001b[0m\u001b[0mbest_params_\u001b[0m\u001b[1;33m)\u001b[0m\u001b[1;33m\u001b[0m\u001b[1;33m\u001b[0m\u001b[0m\n",
            "\u001b[1;31mNameError\u001b[0m: name 'features_train' is not defined"
          ]
        }
      ]
    },
    {
      "cell_type": "code",
      "metadata": {
        "id": "6v7Tqr0atLR8"
      },
      "source": [
        "lr_clf = LogisticRegression(C=5.263252631578947)\n",
        "lr_clf.fit(train_features, train_labels)\n",
        "\n",
        "\n",
        "lr_predicted = lr_clf.predict(test_features)"
      ],
      "execution_count": 24,
      "outputs": []
    },
    {
      "cell_type": "code",
      "metadata": {
        "colab": {
          "base_uri": "https://localhost:8080/"
        },
        "id": "u9Hly0QKVVq_",
        "outputId": "a6c1835e-f7bd-41bd-fb08-8f55a6e048ce"
      },
      "source": [
        "nb_clf = GaussianNB()\r\n",
        "nb_clf.fit(train_features, train_labels)\r\n",
        "nb_predicted = nb_clf.predict(test_features)\r\n",
        "nb_clf.score(test_features, test_labels)"
      ],
      "execution_count": null,
      "outputs": [
        {
          "output_type": "execute_result",
          "data": {
            "text/plain": [
              "0.636"
            ]
          },
          "metadata": {
            "tags": []
          },
          "execution_count": 43
        }
      ]
    },
    {
      "cell_type": "code",
      "metadata": {
        "colab": {
          "base_uri": "https://localhost:8080/"
        },
        "id": "x-zu6NMdkl_l",
        "outputId": "c2037fd3-c045-40c4-d1f7-8877738a970f"
      },
      "source": [
        "from sklearn.metrics import classification_report\r\n",
        "\r\n",
        "print(\"Naive Bayes Score:\")\r\n",
        "print(classification_report(test_labels, nb_predicted))\r\n",
        "print(\"Linear regression Score:\")\r\n",
        "print(classification_report(test_labels, lr_predicted))\r\n",
        "print(\"LinearSVC Score:\")\r\n",
        "print(classification_report(test_labels, svc_predicted))\r\n"
      ],
      "execution_count": null,
      "outputs": [
        {
          "output_type": "stream",
          "text": [
            "Naive Bayes Score:\n",
            "              precision    recall  f1-score   support\n",
            "\n",
            "        fact       0.43      0.52      0.47       156\n",
            "      policy       0.61      0.65      0.63       156\n",
            "       value       0.75      0.67      0.71       438\n",
            "\n",
            "    accuracy                           0.64       750\n",
            "   macro avg       0.59      0.61      0.60       750\n",
            "weighted avg       0.65      0.64      0.64       750\n",
            "\n",
            "Linear regression Score:\n",
            "              precision    recall  f1-score   support\n",
            "\n",
            "        fact       0.60      0.69      0.64       156\n",
            "      policy       0.86      0.86      0.86       156\n",
            "       value       0.86      0.82      0.84       438\n",
            "\n",
            "    accuracy                           0.80       750\n",
            "   macro avg       0.77      0.79      0.78       750\n",
            "weighted avg       0.81      0.80      0.80       750\n",
            "\n",
            "LinearSVC Score:\n",
            "              precision    recall  f1-score   support\n",
            "\n",
            "        fact       0.50      0.62      0.56       156\n",
            "      policy       0.73      0.88      0.80       156\n",
            "       value       0.84      0.71      0.77       438\n",
            "\n",
            "    accuracy                           0.72       750\n",
            "   macro avg       0.69      0.74      0.71       750\n",
            "weighted avg       0.75      0.72      0.73       750\n",
            "\n"
          ],
          "name": "stdout"
        }
      ]
    },
    {
      "cell_type": "code",
      "execution_count": 25,
      "metadata": {},
      "outputs": [
        {
          "output_type": "execute_result",
          "data": {
            "text/plain": [
              "array([[108,   9,  69],\n",
              "       [  5, 171,  27],\n",
              "       [ 93,  23, 441]], dtype=int64)"
            ]
          },
          "metadata": {},
          "execution_count": 25
        }
      ],
      "source": [
        "from sklearn.metrics import confusion_matrix\n",
        "\n",
        "confusion_matrix(test_labels, lr_predicted)"
      ]
    },
    {
      "cell_type": "code",
      "metadata": {
        "colab": {
          "base_uri": "https://localhost:8080/"
        },
        "id": "lwTZJk8_JN8C",
        "outputId": "50e6d29d-661e-48b8-bbda-f64401c28a2f"
      },
      "source": [
        "from sklearn.dummy import DummyClassifier\r\n",
        "clf = DummyClassifier()\r\n",
        "\r\n",
        "scores = cross_val_score(clf, train_features, train_labels)\r\n",
        "print(\"Dummy classifier score: %0.3f (+/- %0.2f)\" % (scores.mean(), scores.std() * 2))"
      ],
      "execution_count": null,
      "outputs": [
        {
          "output_type": "stream",
          "text": [
            "Dummy classifier score: 0.356 (+/- 0.05)\n"
          ],
          "name": "stdout"
        }
      ]
    }
  ]
}